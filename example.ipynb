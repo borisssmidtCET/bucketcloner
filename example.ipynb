{
 "cells": [
  {
   "attachments": {},
   "cell_type": "markdown",
   "metadata": {},
   "source": [
    "# Example for using bucketcloner\n",
    "_Author: Philipp Lies_\n",
    "\n",
    "Fill in the username and app password with sufficient permissions (at least reading account, workspaces, and repository)."
   ]
  },
  {
   "cell_type": "code",
   "execution_count": null,
   "metadata": {},
   "outputs": [],
   "source": [
    "# TODO: Provide your information here\n",
    "user = ''\n",
    "password = '' "
   ]
  },
  {
   "attachments": {},
   "cell_type": "markdown",
   "metadata": {},
   "source": [
    "First, we get all workspaces and print the results.\n",
    "\n",
    "If you run this file not within the bucketcloner source directory, you might need to adjust the import statement."
   ]
  },
  {
   "cell_type": "code",
   "execution_count": null,
   "metadata": {},
   "outputs": [],
   "source": [
    "import src.bucketcloner as bucketcloner\n",
    "\n",
    "workspaces = bucketcloner.list_bitbucket_workspaces(user, password)\n",
    "for w in workspaces:\n",
    "    print(f'{w[\"name\"]} ({w[\"slug\"]}) - {w[\"url\"]}')"
   ]
  },
  {
   "attachments": {},
   "cell_type": "markdown",
   "metadata": {},
   "source": [
    "Use the last workspace from the list and retrieve its repositories. The repositories will be downloaded in a folder with the name of the _slug_ of the workspace."
   ]
  },
  {
   "cell_type": "code",
   "execution_count": null,
   "metadata": {},
   "outputs": [],
   "source": [
    "workspace = workspaces[-1]\n",
    "bucketcloner.clone_bitbucket(user, password, workspace['slug'])"
   ]
  },
  {
   "attachments": {},
   "cell_type": "markdown",
   "metadata": {},
   "source": [
    "Now we check if the workspace was checked out and print all repositories"
   ]
  },
  {
   "cell_type": "code",
   "execution_count": null,
   "metadata": {},
   "outputs": [],
   "source": [
    "import os\n",
    "\n",
    "repos = os.listdir(workspace['slug'])\n",
    "print(repos)"
   ]
  },
  {
   "attachments": {},
   "cell_type": "markdown",
   "metadata": {},
   "source": [
    "Finally, we delete the local workspace folder."
   ]
  },
  {
   "cell_type": "code",
   "execution_count": null,
   "metadata": {},
   "outputs": [],
   "source": [
    "import shutil\n",
    "\n",
    "try:\n",
    "    shutil.rmtree(workspace['slug'])\n",
    "except FileNotFoundError:\n",
    "    pass"
   ]
  }
 ],
 "metadata": {
  "kernelspec": {
   "display_name": "scraper",
   "language": "python",
   "name": "python3"
  },
  "language_info": {
   "codemirror_mode": {
    "name": "ipython",
    "version": 3
   },
   "file_extension": ".py",
   "mimetype": "text/x-python",
   "name": "python",
   "nbconvert_exporter": "python",
   "pygments_lexer": "ipython3",
   "version": "3.11.0"
  },
  "orig_nbformat": 4
 },
 "nbformat": 4,
 "nbformat_minor": 2
}
